{
 "cells": [
  {
   "cell_type": "code",
   "execution_count": 1,
   "metadata": {},
   "outputs": [
    {
     "data": {
      "application/vnd.jupyter.widget-view+json": {
       "model_id": "668efd46ccbd46da82b11c2a48c1d7a0",
       "version_major": 2,
       "version_minor": 0
      },
      "text/plain": [
       "HBox(children=(VBox(children=(IntSlider(value=0, description='FRAME', max=48), IntSlider(value=33, description…"
      ]
     },
     "metadata": {},
     "output_type": "display_data"
    }
   ],
   "source": [
    "import ipywidgets as widgets\n",
    "import matplotlib.pyplot as plt\n",
    "import numpy as np\n",
    "from scipy import io\n",
    "import math\n",
    "import sys\n",
    "basedir   = \"/home/daniel/UNTDF/SistemasComplejos/Bioimpedancia/EITdF\"\n",
    "sourcedir = basedir+'/source'\n",
    "sys.path.append(sourcedir)\n",
    "import GREITdF\n",
    "import EITools\n",
    "import matplotlib.cm as cm\n",
    "\n",
    "envi = GREITdF.EnvironOpt(basedir)\n",
    "\n",
    "datitos = GREITdF.EITdata(envi,\"simuresp_feb2021.mat\")\n",
    "datitos.get_normalized_dataframes(2)\n",
    "recmodel  = GREITdF.ReconstructionModel(\"recmodel_male16el_maxelementsize6_uncorrelatednoise\",1,envi)\n",
    "estaimagen = GREITdF.RawImage(recmodel,datitos)\n",
    "\n",
    "def showtime(FrameNr, HyperScale):\n",
    "    HyperFraction = 1.1**HyperScale\n",
    "    print(\"Hyperparameter = \",HyperFraction,\" * w0\")\n",
    "    recmodel.set_hyperparameter(HyperFraction)\n",
    "    estaimagen.CalcRawImage(estaimagen.GetRefFrame())\n",
    "    vmin  = estaimagen.RawImage.min()\n",
    "    vmax  = estaimagen.RawImage.max()\n",
    "    frame = estaimagen.RawImage[:,FrameNr]\n",
    "    EITools.show_gridimage_frame(frame, recmodel, vmin, vmax)\n",
    "\n",
    "FrameNr    = widgets.IntSlider(value=0,  min=0,   max=48, description='FRAME')\n",
    "HyperScale = widgets.IntSlider(value=33, min=-20, max=60, description='hyperscale')\n",
    "\n",
    "out = widgets.interactive_output(showtime, {'FrameNr': FrameNr, 'HyperScale': HyperScale})\n",
    "\n",
    "widgets.HBox([widgets.VBox([FrameNr, HyperScale]), out])"
   ]
  },
  {
   "cell_type": "code",
   "execution_count": null,
   "metadata": {},
   "outputs": [],
   "source": []
  }
 ],
 "metadata": {
  "kernelspec": {
   "display_name": "Python 3",
   "language": "python",
   "name": "python3"
  },
  "language_info": {
   "codemirror_mode": {
    "name": "ipython",
    "version": 3
   },
   "file_extension": ".py",
   "mimetype": "text/x-python",
   "name": "python",
   "nbconvert_exporter": "python",
   "pygments_lexer": "ipython3",
   "version": "3.7.6"
  }
 },
 "nbformat": 4,
 "nbformat_minor": 4
}
