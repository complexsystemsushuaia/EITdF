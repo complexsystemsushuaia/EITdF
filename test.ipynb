{
 "cells": [
  {
   "cell_type": "code",
   "execution_count": 1,
   "metadata": {},
   "outputs": [],
   "source": [
    "import matplotlib.pyplot as plt\n",
    "import numpy as np\n",
    "from scipy import io\n",
    "import os\n",
    "import math\n",
    "import sys\n",
    "#basedir   = \"/home/daniel/ORDENAR/UNTDF/SistemasComplejos/Bioimpedancia/EITdF\"\n",
    "#obtengo el directorio actual que es el base utilizando la librería estandar de llamadas al sistema operativo\n",
    "# el resultado es un byte array que lo decodifico para pasar a un string\n",
    "basedir   = dir=os.getcwdb().decode(\"utf-8\")\n",
    "sourcedir = basedir+'/source'\n",
    "sys.path.append(sourcedir)\n",
    "import GREITdF\n"
   ]
  },
  {
   "cell_type": "code",
   "execution_count": 2,
   "metadata": {},
   "outputs": [
    {
     "name": "stdout",
     "output_type": "stream",
     "text": [
      "C:\\Users\\matiasgel\\desarrollo\\eit\\EITdF/source/python\n",
      "C:\\Users\\matiasgel\\desarrollo\\eit\\EITdF/models\n"
     ]
    }
   ],
   "source": [
    "envi = GREITdF.EnvironOpt(basedir)\n",
    "print(envi.bindir)\n",
    "\n",
    "print(envi.modelsdir)"
   ]
  },
  {
   "cell_type": "code",
   "execution_count": 3,
   "metadata": {},
   "outputs": [
    {
     "data": {
      "text/plain": [
       "[<matplotlib.lines.Line2D at 0x1d07fe45400>]"
      ]
     },
     "execution_count": 3,
     "metadata": {},
     "output_type": "execute_result"
    },
    {
     "data": {
      "image/png": "[encoded data removed]",
      "text/plain": [
       "<Figure size 432x288 with 1 Axes>"
      ]
     },
     "metadata": {
      "needs_background": "light"
     },
     "output_type": "display_data"
    }
   ],
   "source": [
    "#datitos = GREITdF.EITdata(envi,\"simuresp_allelec_snr500.mat\")\n",
    "datitos = GREITdF.EITdata(envi,\"simuresp_mistery_nomeas.mat\",0)\n",
    "#datitos = GREITdF.EITdata(envi,\"simuresp_ztest.mat\",1)\n",
    "#datitos = GREITdF.EITdata(envi,\"simuresp_mistery_meas.mat\",1)\n",
    "datitos.get_normalized_dataframes(2)\n",
    "#print(datitos.EIT_data_meas_active_electrodes)\n",
    "plt.plot([abs(x) for x in datitos.EIT_data_meas_active_electrodes])"
   ]
  },
  {
   "cell_type": "code",
   "execution_count": 4,
   "metadata": {},
   "outputs": [],
   "source": [
    "recmodel = GREITdF.ReconstructionModel(\"male_16el_01\",0.02,envi)"
   ]
  },
  {
   "cell_type": "code",
   "execution_count": 5,
   "metadata": {},
   "outputs": [
    {
     "name": "stdout",
     "output_type": "stream",
     "text": [
      "(629, 208)\n",
      "(208, 49)\n",
      "(629, 49)\n",
      "29\n"
     ]
    },
    {
     "data": {
      "image/png": "[encoded data removed]",
      "text/plain": [
       "<Figure size 432x288 with 1 Axes>"
      ]
     },
     "metadata": {
      "needs_background": "light"
     },
     "output_type": "display_data"
    }
   ],
   "source": [
    "recmodel.set_hyperparameter(0.005)\n",
    "print(np.shape(recmodel.rm))\n",
    "print(np.shape(datitos.EIT_normalized_dif))\n",
    "estaimagen = GREITdF.RawImage(recmodel,datitos)\n",
    "estaimagen.CalcRawImage(estaimagen.GetRefFrame())\n",
    "print(np.shape(estaimagen.RawImage))\n",
    "print(estaimagen.eitdata.ref_frame)\n",
    "estaimagen.ShowFrame(15)"
   ]
  },
  {
   "cell_type": "code",
   "execution_count": 6,
   "metadata": {},
   "outputs": [
    {
     "name": "stdout",
     "output_type": "stream",
     "text": [
      "ERROR: Contact resistances cannot be estimated. No data on active electrodes.\n"
     ]
    },
    {
     "ename": "AttributeError",
     "evalue": "'EITdata' object has no attribute 'contact_resistances'",
     "output_type": "error",
     "traceback": [
      "\u001B[0;31m---------------------------------------------------------------------------\u001B[0m",
      "\u001B[0;31mAttributeError\u001B[0m                            Traceback (most recent call last)",
      "\u001B[0;32m<ipython-input-6-5cbf4ba1296d>\u001B[0m in \u001B[0;36m<module>\u001B[0;34m\u001B[0m\n\u001B[1;32m      1\u001B[0m \u001B[0mdatitos\u001B[0m\u001B[0;34m.\u001B[0m\u001B[0mestimate_contact_resistances\u001B[0m\u001B[0;34m(\u001B[0m\u001B[0;34m[\u001B[0m\u001B[0;36m0.001\u001B[0m \u001B[0;32mfor\u001B[0m \u001B[0mk\u001B[0m \u001B[0;32min\u001B[0m \u001B[0mrange\u001B[0m\u001B[0;34m(\u001B[0m\u001B[0;36m16\u001B[0m\u001B[0;34m*\u001B[0m\u001B[0mdatitos\u001B[0m\u001B[0;34m.\u001B[0m\u001B[0mNrFrames\u001B[0m\u001B[0;34m)\u001B[0m\u001B[0;34m]\u001B[0m\u001B[0;34m)\u001B[0m\u001B[0;34m\u001B[0m\u001B[0;34m\u001B[0m\u001B[0m\n\u001B[0;32m----> 2\u001B[0;31m \u001B[0mprint\u001B[0m\u001B[0;34m(\u001B[0m\u001B[0mdatitos\u001B[0m\u001B[0;34m.\u001B[0m\u001B[0mcontact_resistances\u001B[0m\u001B[0;34m)\u001B[0m\u001B[0;34m\u001B[0m\u001B[0;34m\u001B[0m\u001B[0m\n\u001B[0m",
      "\u001B[0;31mAttributeError\u001B[0m: 'EITdata' object has no attribute 'contact_resistances'"
     ]
    }
   ],
   "source": [
    "datitos.estimate_contact_resistances([0.001 for k in range(16*datitos.NrFrames)])\n",
    "print(datitos.contact_resistances)"
   ]
  },
  {
   "cell_type": "code",
   "execution_count": null,
   "metadata": {},
   "outputs": [],
   "source": [
    "plt.plot([datitos.contact_resistances[k] for k in range(16)])"
   ]
  },
  {
   "cell_type": "code",
   "execution_count": null,
   "metadata": {},
   "outputs": [],
   "source": [
    "A = [k for k in range(10)]\n",
    "B = [m**2 for m in range(10)]\n",
    "coso = A*B"
   ]
  },
  {
   "cell_type": "code",
   "execution_count": null,
   "metadata": {},
   "outputs": [],
   "source": []
  }
 ],
 "metadata": {
  "kernelspec": {
   "display_name": "Python 3",
   "language": "python",
   "name": "python3"
  },
  "language_info": {
   "codemirror_mode": {
    "name": "ipython",
    "version": 3
   },
   "file_extension": ".py",
   "mimetype": "text/x-python",
   "name": "python",
   "nbconvert_exporter": "python",
   "pygments_lexer": "ipython3",
   "version": "3.8.3"
  }
 },
 "nbformat": 4,
 "nbformat_minor": 4
}